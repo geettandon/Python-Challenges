{
 "cells": [
  {
   "cell_type": "markdown",
   "id": "6d3f495a",
   "metadata": {},
   "source": [
    "# Python Challenge 1\n",
    "\n",
    "This is the Python Coding challenge 1 attempt. This challenge can be found here. [link](https://www.steeldata.org.uk/python1.html)"
   ]
  },
  {
   "cell_type": "markdown",
   "id": "780136ad",
   "metadata": {},
   "source": [
    "## Beginner Level\n",
    "\n",
    "### 1. Write a function that takes two integers as input and returns their sum."
   ]
  },
  {
   "cell_type": "code",
   "execution_count": 2,
   "id": "119fb55b",
   "metadata": {},
   "outputs": [],
   "source": [
    "# defining a function named add.\n",
    "def add(int1, int2):\n",
    "    if  not (isinstance(int1, int) and isinstance(int2, int)):\n",
    "        return \"Inputs must be integers\"\n",
    "    else:\n",
    "        return int1 + int2"
   ]
  },
  {
   "cell_type": "code",
   "execution_count": 3,
   "id": "da64317a",
   "metadata": {},
   "outputs": [
    {
     "data": {
      "text/plain": [
       "'Inputs must be integers'"
      ]
     },
     "execution_count": 3,
     "metadata": {},
     "output_type": "execute_result"
    }
   ],
   "source": [
    "# Using the add function\n",
    "add(1, 'e')"
   ]
  },
  {
   "cell_type": "code",
   "execution_count": 4,
   "id": "042be497",
   "metadata": {},
   "outputs": [
    {
     "data": {
      "text/plain": [
       "3"
      ]
     },
     "execution_count": 4,
     "metadata": {},
     "output_type": "execute_result"
    }
   ],
   "source": [
    "# Using the add function\n",
    "add(1, 2)"
   ]
  },
  {
   "cell_type": "markdown",
   "id": "56e77dcb",
   "metadata": {},
   "source": [
    "### 2. Write a function that takes a string as input and returns the string in reverse order."
   ]
  },
  {
   "cell_type": "code",
   "execution_count": 5,
   "id": "c4d278d3",
   "metadata": {},
   "outputs": [],
   "source": [
    "# defining a function named reverse_string\n",
    "def reverse_string(string):\n",
    "    if string is None:\n",
    "        return \"Input is None.\"\n",
    "    elif not isinstance(string, str):\n",
    "        return \"Input is not a string.\"\n",
    "    else:\n",
    "        return string[::-1]"
   ]
  },
  {
   "cell_type": "code",
   "execution_count": 6,
   "id": "f38091f8",
   "metadata": {},
   "outputs": [
    {
     "data": {
      "text/plain": [
       "'Input is not a string.'"
      ]
     },
     "execution_count": 6,
     "metadata": {},
     "output_type": "execute_result"
    }
   ],
   "source": [
    "# Using the reverse_string function\n",
    "reverse_string(2)"
   ]
  },
  {
   "cell_type": "code",
   "execution_count": 7,
   "id": "494fc1c4",
   "metadata": {},
   "outputs": [
    {
     "data": {
      "text/plain": [
       "'olleh'"
      ]
     },
     "execution_count": 7,
     "metadata": {},
     "output_type": "execute_result"
    }
   ],
   "source": [
    "# Using the reverse_string function\n",
    "reverse_string('hello')"
   ]
  },
  {
   "cell_type": "markdown",
   "id": "87964cf9",
   "metadata": {},
   "source": [
    "### 3. Write a function that takes a list of numbers and returns the sum of all the numbers in the list."
   ]
  },
  {
   "cell_type": "code",
   "execution_count": 8,
   "id": "f47f81d9",
   "metadata": {},
   "outputs": [],
   "source": [
    "# defining a function named sum_of_list\n",
    "def sum_of_list(lst):\n",
    "    if not isinstance(lst, list):\n",
    "        return \"Input is not a list.\"\n",
    "    \n",
    "    # Check if all elements in the list are integers\n",
    "    if not all(isinstance(x, int) for x in lst):\n",
    "        return \"List contains non-integer elements.\"\n",
    "\n",
    "    # Calculate the sum using the built-in sum function\n",
    "    return sum(lst) "
   ]
  },
  {
   "cell_type": "code",
   "execution_count": 9,
   "id": "2871b32e",
   "metadata": {},
   "outputs": [
    {
     "data": {
      "text/plain": [
       "'Input is not a list.'"
      ]
     },
     "execution_count": 9,
     "metadata": {},
     "output_type": "execute_result"
    }
   ],
   "source": [
    "# Using the function sum_of_list\n",
    "sum_of_list('1')"
   ]
  },
  {
   "cell_type": "code",
   "execution_count": 10,
   "id": "f336ef10",
   "metadata": {},
   "outputs": [
    {
     "data": {
      "text/plain": [
       "'List contains non-integer elements.'"
      ]
     },
     "execution_count": 10,
     "metadata": {},
     "output_type": "execute_result"
    }
   ],
   "source": [
    "# Using the function sum_of_list\n",
    "sum_of_list([1,3,4,5,'b'])"
   ]
  },
  {
   "cell_type": "code",
   "execution_count": 11,
   "id": "a9a883fa",
   "metadata": {},
   "outputs": [
    {
     "data": {
      "text/plain": [
       "19"
      ]
     },
     "execution_count": 11,
     "metadata": {},
     "output_type": "execute_result"
    }
   ],
   "source": [
    "# Using the function sum_of_list\n",
    "sum_of_list([1,3,4,5,6])"
   ]
  },
  {
   "cell_type": "markdown",
   "id": "7ddc052b",
   "metadata": {},
   "source": [
    "### 4. Write a function that takes a list of strings and returns a new list containing the length of each string."
   ]
  },
  {
   "cell_type": "code",
   "execution_count": 12,
   "id": "44e5a02e",
   "metadata": {},
   "outputs": [],
   "source": [
    "# defining a function named string_length\n",
    "def string_length(lst):\n",
    "    if not isinstance(lst, list):\n",
    "        return \"Input is not a list.\"\n",
    "    \n",
    "    # Check if all elements in the list are strings\n",
    "    if not all(isinstance(x, str) for x in lst):\n",
    "        return \"List contains elements that are not string.\"\n",
    "    \n",
    "    length_list = [len(x) for x in lst]\n",
    "    return length_list"
   ]
  },
  {
   "cell_type": "code",
   "execution_count": 13,
   "id": "8d309c55",
   "metadata": {},
   "outputs": [
    {
     "data": {
      "text/plain": [
       "'Input is not a list.'"
      ]
     },
     "execution_count": 13,
     "metadata": {},
     "output_type": "execute_result"
    }
   ],
   "source": [
    "# Using the function string_length\n",
    "string_length('strings')"
   ]
  },
  {
   "cell_type": "code",
   "execution_count": 14,
   "id": "bf16c7dd",
   "metadata": {},
   "outputs": [
    {
     "data": {
      "text/plain": [
       "'List contains elements that are not string.'"
      ]
     },
     "execution_count": 14,
     "metadata": {},
     "output_type": "execute_result"
    }
   ],
   "source": [
    "# Using the function string_length\n",
    "string_length(['hi', 'hello', 'bye', 5])"
   ]
  },
  {
   "cell_type": "code",
   "execution_count": 15,
   "id": "60e52fd8",
   "metadata": {},
   "outputs": [
    {
     "data": {
      "text/plain": [
       "[2, 5, 3]"
      ]
     },
     "execution_count": 15,
     "metadata": {},
     "output_type": "execute_result"
    }
   ],
   "source": [
    "# Using the function string_length\n",
    "string_length(['hi', 'hello', 'bye'])"
   ]
  },
  {
   "cell_type": "markdown",
   "id": "1e06b179",
   "metadata": {},
   "source": [
    "## Intermediate\n",
    "\n",
    "### 1. Write a function that takes a list of integers and returns the second largest number in the list."
   ]
  },
  {
   "cell_type": "code",
   "execution_count": 16,
   "id": "0bd5f6af",
   "metadata": {},
   "outputs": [],
   "source": [
    "# defining a function named second_largest_num\n",
    "def second_largest_num(lst):\n",
    "    if not isinstance(lst, list):\n",
    "        return \"Input is not a list.\"\n",
    "    \n",
    "    # Check if all elements in the list are integers\n",
    "    if not all(isinstance(x, int) for x in lst):\n",
    "        return \"List contains non-integer elements.\"\n",
    "    \n",
    "    # Check if the list has at least two elements\n",
    "    if len(lst) < 2:\n",
    "        return \"List has fewer than two elements.\"\n",
    "    \n",
    "    return sorted(lst, reverse=True)[1]"
   ]
  },
  {
   "cell_type": "code",
   "execution_count": 17,
   "id": "89db1af1",
   "metadata": {},
   "outputs": [
    {
     "data": {
      "text/plain": [
       "'List has fewer than two elements.'"
      ]
     },
     "execution_count": 17,
     "metadata": {},
     "output_type": "execute_result"
    }
   ],
   "source": [
    "# Using the function second_largest_num\n",
    "second_largest_num([2])"
   ]
  },
  {
   "cell_type": "code",
   "execution_count": 18,
   "id": "c15b21d1",
   "metadata": {},
   "outputs": [
    {
     "data": {
      "text/plain": [
       "3"
      ]
     },
     "execution_count": 18,
     "metadata": {},
     "output_type": "execute_result"
    }
   ],
   "source": [
    "# Using the function second_largest_num\n",
    "second_largest_num([2,3,5,1,0,1])"
   ]
  },
  {
   "cell_type": "markdown",
   "id": "6c635b65",
   "metadata": {},
   "source": [
    "### 2. Write a function that takes a list of integers and returns a new list containing only the prime numbers in the list."
   ]
  },
  {
   "cell_type": "code",
   "execution_count": 19,
   "id": "c878dde0",
   "metadata": {},
   "outputs": [],
   "source": [
    "# defining a function named is_prime\n",
    "def is_prime(n):\n",
    "    \"\"\"Check if a number is prime.\"\"\"\n",
    "    if n < 2:\n",
    "        return False\n",
    "    for i in range(2, int(n**0.5) + 1):\n",
    "        if n % i == 0:\n",
    "            return False\n",
    "    return True\n",
    "\n",
    "# defining a function named only_prime\n",
    "def only_prime(lst):\n",
    "    if not isinstance(lst, list):\n",
    "        return \"Input is not a list.\"\n",
    "    \n",
    "    # Check if all elements in the list are integers\n",
    "    if not all(isinstance(x, int) for x in lst):\n",
    "        return \"List contains non-integer elements.\"\n",
    "        \n",
    "    prime_lst = []\n",
    "\n",
    "    for x in lst:\n",
    "        if x == 1:\n",
    "            continue\n",
    "        elif x == 2 or (x > 2 and x % 2 != 0 and is_prime(x)):\n",
    "            prime_lst.append(x)\n",
    "\n",
    "    return list(set(prime_lst))"
   ]
  },
  {
   "cell_type": "code",
   "execution_count": 20,
   "id": "7e97c305",
   "metadata": {},
   "outputs": [
    {
     "data": {
      "text/plain": [
       "[2, 3, 5, 7]"
      ]
     },
     "execution_count": 20,
     "metadata": {},
     "output_type": "execute_result"
    }
   ],
   "source": [
    "# Using the function only_prime\n",
    "only_prime([1,2,3,4,5,6,7,8,9,10])"
   ]
  },
  {
   "cell_type": "markdown",
   "id": "c163ec59",
   "metadata": {},
   "source": [
    "### 3. Write a function that takes two lists of integers and returns a new list containing the elements that are common to both lists."
   ]
  },
  {
   "cell_type": "code",
   "execution_count": 21,
   "id": "4cc231f4",
   "metadata": {},
   "outputs": [],
   "source": [
    "# defining a function named common_list\n",
    "def common_list(ls1, ls2):\n",
    "    if not isinstance(ls1, list) or not isinstance(ls2, list):\n",
    "        return \"Inputs are not lists.\"\n",
    "    \n",
    "    # Check if all elements in the lists are integers\n",
    "    if not all(isinstance(x, int) for x in ls1) or not all(isinstance(x, int) for x in ls2):\n",
    "        return \"Lists contains non-integer elements.\"\n",
    "    \n",
    "    common = list(set(ls1).intersection(ls2))\n",
    "    return common"
   ]
  },
  {
   "cell_type": "code",
   "execution_count": 22,
   "id": "172d31f6",
   "metadata": {},
   "outputs": [
    {
     "data": {
      "text/plain": [
       "[3, 5, 6, 7, 8, 9, 10]"
      ]
     },
     "execution_count": 22,
     "metadata": {},
     "output_type": "execute_result"
    }
   ],
   "source": [
    "# Using the function common_list\n",
    "common_list([1,2,3,4,5,6,7,8,9,10], [3,5,6,7,8,9,10])"
   ]
  },
  {
   "cell_type": "markdown",
   "id": "453ea964",
   "metadata": {},
   "source": [
    "## Advanced\n",
    "\n",
    "### 1.  Create a text-based adventure game that uses ASCII art"
   ]
  },
  {
   "cell_type": "code",
   "execution_count": 25,
   "id": "d23b9f42",
   "metadata": {},
   "outputs": [],
   "source": [
    "# defining a function named guess_the_number\n",
    "\n",
    "import random\n",
    "\n",
    "def print_ascii_art():\n",
    "    print(\"\"\"\n",
    "   _______ \n",
    "  |       |\n",
    "  |       |\n",
    "  |       |\n",
    "  |       |\n",
    "  |_______|\n",
    "  \n",
    "Welcome to the Guess the Number game!\n",
    "I'm thinking of a number between 1 and 100.\n",
    "Try to guess it!\n",
    "    \"\"\")\n",
    "\n",
    "def guess_the_number():\n",
    "    secret_number = random.randint(1, 100)\n",
    "    attempts = 0\n",
    "\n",
    "    print_ascii_art()\n",
    "\n",
    "    while True:\n",
    "        guess = int(input(\"Enter your guess: \"))\n",
    "        attempts += 1\n",
    "\n",
    "        if guess < secret_number:\n",
    "            print(\"Too low! Try again.\")\n",
    "        elif guess > secret_number:\n",
    "            print(\"Too high! Try again.\")\n",
    "        else:\n",
    "            print(f\"Congratulations! You guessed the number in {attempts} attempts.\")\n",
    "            break"
   ]
  },
  {
   "cell_type": "code",
   "execution_count": 26,
   "id": "28944b28",
   "metadata": {},
   "outputs": [
    {
     "name": "stdout",
     "output_type": "stream",
     "text": [
      "\n",
      "   _______ \n",
      "  |       |\n",
      "  |       |\n",
      "  |       |\n",
      "  |       |\n",
      "  |_______|\n",
      "  \n",
      "Welcome to the Guess the Number game!\n",
      "I'm thinking of a number between 1 and 100.\n",
      "Try to guess it!\n",
      "    \n",
      "Enter your guess: 4\n",
      "Too low! Try again.\n",
      "Enter your guess: 50\n",
      "Too low! Try again.\n",
      "Enter your guess: 25\n",
      "Too low! Try again.\n",
      "Enter your guess: 70\n",
      "Too low! Try again.\n",
      "Enter your guess: 90\n",
      "Too low! Try again.\n",
      "Enter your guess: 100\n",
      "Too high! Try again.\n",
      "Enter your guess: 95\n",
      "Too high! Try again.\n",
      "Enter your guess: 93\n",
      "Too high! Try again.\n",
      "Enter your guess: 92\n",
      "Congratulations! You guessed the number in 9 attempts.\n"
     ]
    }
   ],
   "source": [
    "# Using the function guess_the_number\n",
    "guess_the_number()"
   ]
  },
  {
   "cell_type": "code",
   "execution_count": null,
   "id": "03e18ad6",
   "metadata": {},
   "outputs": [],
   "source": []
  }
 ],
 "metadata": {
  "kernelspec": {
   "display_name": "Python 3 (ipykernel)",
   "language": "python",
   "name": "python3"
  },
  "language_info": {
   "codemirror_mode": {
    "name": "ipython",
    "version": 3
   },
   "file_extension": ".py",
   "mimetype": "text/x-python",
   "name": "python",
   "nbconvert_exporter": "python",
   "pygments_lexer": "ipython3",
   "version": "3.9.13"
  }
 },
 "nbformat": 4,
 "nbformat_minor": 5
}
