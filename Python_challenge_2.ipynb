{
 "cells": [
  {
   "cell_type": "markdown",
   "id": "a2368be5",
   "metadata": {},
   "source": [
    "# Python Challenge 2\n",
    "\n",
    "This is the Python Coding challenge 2 attempt. This challenge can be found here. [link](https://www.steeldata.org.uk/python2.html)"
   ]
  },
  {
   "cell_type": "markdown",
   "id": "af270a46",
   "metadata": {},
   "source": [
    "\n",
    "## Beginner\n",
    "\n",
    "### 1. Write a function that takes a string as input and returns the length of the string."
   ]
  },
  {
   "cell_type": "code",
   "execution_count": 1,
   "id": "f34f9cd7",
   "metadata": {},
   "outputs": [],
   "source": [
    "# defining a function named string_length\n",
    "def string_length(str1):\n",
    "    # Check for input as a string\n",
    "    if not isinstance(str1, str):\n",
    "        return \"Input is not a string\"\n",
    "    \n",
    "    return len(str1)"
   ]
  },
  {
   "cell_type": "code",
   "execution_count": 2,
   "id": "059d7e3a",
   "metadata": {},
   "outputs": [
    {
     "data": {
      "text/plain": [
       "2"
      ]
     },
     "execution_count": 2,
     "metadata": {},
     "output_type": "execute_result"
    }
   ],
   "source": [
    "# Using the function string_length\n",
    "string_length('hi')"
   ]
  },
  {
   "cell_type": "markdown",
   "id": "d0c32418",
   "metadata": {},
   "source": [
    "### 2. Write a function that takes a list of integers as input and returns the maximum value in the list."
   ]
  },
  {
   "cell_type": "code",
   "execution_count": 3,
   "id": "d6b6efab",
   "metadata": {},
   "outputs": [],
   "source": [
    "# defining a function named max_in_list\n",
    "def max_in_list(lst):\n",
    "    if not isinstance(lst, list):\n",
    "        return \"Input is not a list.\"\n",
    "    \n",
    "    # Check if the list is not empty\n",
    "    if not lst:\n",
    "        return \"List is empty.\"\n",
    "\n",
    "    # Check if all elements in the list are integers\n",
    "    if not all(isinstance(x, int) for x in lst):\n",
    "        return \"List contains non-integer elements.\"\n",
    "    \n",
    "    # Initialize max_int with the first element of the list\n",
    "    max_int = lst[0]\n",
    "    \n",
    "    for x in lst[1:]:\n",
    "        if x > max_int:\n",
    "            max_int = x\n",
    "        \n",
    "    return max_int"
   ]
  },
  {
   "cell_type": "code",
   "execution_count": 4,
   "id": "5d2b250f",
   "metadata": {},
   "outputs": [
    {
     "data": {
      "text/plain": [
       "909"
      ]
     },
     "execution_count": 4,
     "metadata": {},
     "output_type": "execute_result"
    }
   ],
   "source": [
    "# Using the function max_in_list\n",
    "max_in_list([10,240,435,1,49,909])"
   ]
  },
  {
   "cell_type": "markdown",
   "id": "e923f276",
   "metadata": {},
   "source": [
    "### 3. Write a function that takes a float as input and rounds it to the nearest integer."
   ]
  },
  {
   "cell_type": "code",
   "execution_count": 5,
   "id": "1dad4b0f",
   "metadata": {},
   "outputs": [],
   "source": [
    "# defining a function named round_float\n",
    "def round_float(flt):\n",
    "    if not isinstance(flt, float):\n",
    "        return \"Input is not a float.\"\n",
    "    \n",
    "    return int(round(flt))"
   ]
  },
  {
   "cell_type": "code",
   "execution_count": 6,
   "id": "4752e11e",
   "metadata": {},
   "outputs": [
    {
     "data": {
      "text/plain": [
       "13"
      ]
     },
     "execution_count": 6,
     "metadata": {},
     "output_type": "execute_result"
    }
   ],
   "source": [
    "# Using the function round_float\n",
    "round_float(12.62)"
   ]
  },
  {
   "cell_type": "markdown",
   "id": "b9a11a5b",
   "metadata": {},
   "source": [
    "## Intermediate\n",
    "\n",
    "### 1. Write a function that takes a list of integers and returns a new list with only the unique values (no duplicates)."
   ]
  },
  {
   "cell_type": "code",
   "execution_count": 7,
   "id": "908e6e72",
   "metadata": {},
   "outputs": [],
   "source": [
    "# defining a function named unique_list\n",
    "def unique_list(lst):\n",
    "    if not isinstance(lst, list):\n",
    "        return \"Input is not a list.\"\n",
    "\n",
    "    # Check if all elements in the list are integers\n",
    "    if not all(isinstance(x, int) for x in lst):\n",
    "        return \"List contains non-integer elements.\"\n",
    "    \n",
    "    return list(set(lst))"
   ]
  },
  {
   "cell_type": "code",
   "execution_count": 8,
   "id": "015e723f",
   "metadata": {},
   "outputs": [
    {
     "data": {
      "text/plain": [
       "[1, 2, 3, 4]"
      ]
     },
     "execution_count": 8,
     "metadata": {},
     "output_type": "execute_result"
    }
   ],
   "source": [
    "# Using the function unique_list\n",
    "unique_list([1,2,3,4,4])"
   ]
  },
  {
   "cell_type": "markdown",
   "id": "60686309",
   "metadata": {},
   "source": [
    "### 2. Write a function that takes a string as input and returns the number of vowels in the string."
   ]
  },
  {
   "cell_type": "code",
   "execution_count": 9,
   "id": "d3fa840a",
   "metadata": {},
   "outputs": [],
   "source": [
    "# defining a function named vowels_in_string\n",
    "def vowels_in_string(str1):\n",
    "    # Check for input as a string\n",
    "    if not isinstance(str1, str):\n",
    "        return \"Input is not a string\"\n",
    "    \n",
    "    vowels = 0\n",
    "    for x in str1:\n",
    "        if x in ('a', 'e', 'i', 'o', 'u'):\n",
    "            vowels += 1\n",
    "            \n",
    "    return vowels"
   ]
  },
  {
   "cell_type": "code",
   "execution_count": 10,
   "id": "bf793b72",
   "metadata": {},
   "outputs": [
    {
     "data": {
      "text/plain": [
       "2"
      ]
     },
     "execution_count": 10,
     "metadata": {},
     "output_type": "execute_result"
    }
   ],
   "source": [
    "# Using the function vowels_in_string\n",
    "vowels_in_string('hello')"
   ]
  },
  {
   "cell_type": "markdown",
   "id": "7bb7b3ba",
   "metadata": {},
   "source": [
    "### 3. Write a function that takes a list of integers and returns a new list with the elements in reverse order."
   ]
  },
  {
   "cell_type": "code",
   "execution_count": 11,
   "id": "04351300",
   "metadata": {},
   "outputs": [],
   "source": [
    "# defining a function named reverse_list\n",
    "def reverse_list(lst):\n",
    "    if not isinstance(lst, list):\n",
    "        return \"Input is not a list.\"\n",
    "    \n",
    "    return lst[::-1]"
   ]
  },
  {
   "cell_type": "code",
   "execution_count": 12,
   "id": "2fe497c9",
   "metadata": {},
   "outputs": [
    {
     "data": {
      "text/plain": [
       "[4, 3, 2, 1]"
      ]
     },
     "execution_count": 12,
     "metadata": {},
     "output_type": "execute_result"
    }
   ],
   "source": [
    "# Using the function reverse_list\n",
    "reverse_list([1,2,3,4])"
   ]
  },
  {
   "cell_type": "markdown",
   "id": "fa5fa18d",
   "metadata": {},
   "source": [
    "## Advanced\n",
    "\n",
    "### 1. Write a function that takes a list of strings and returns a new list with only the strings that are palindromes (i.e. they read the same forwards and backwards)."
   ]
  },
  {
   "cell_type": "code",
   "execution_count": 13,
   "id": "9a20d3df",
   "metadata": {},
   "outputs": [],
   "source": [
    "# defining a function named palindromes_strings\n",
    "def palindrome_strings(lst):\n",
    "    if not isinstance(lst, list):\n",
    "        return \"Input is not a list.\"\n",
    "    \n",
    "    # Check if the list is not empty\n",
    "    if not lst:\n",
    "        return \"List is empty.\"\n",
    "\n",
    "    # Check if all elements in the list are strings\n",
    "    if not all(isinstance(x, str) for x in lst):\n",
    "        return \"List contains non-string elements.\"\n",
    "    \n",
    "    palindromes = []\n",
    "    for x in lst:\n",
    "        if x == x[::-1]:\n",
    "            palindromes.append(x)\n",
    "    \n",
    "    return palindromes"
   ]
  },
  {
   "cell_type": "code",
   "execution_count": 14,
   "id": "e75911e6",
   "metadata": {},
   "outputs": [
    {
     "data": {
      "text/plain": [
       "['level', 'radar']"
      ]
     },
     "execution_count": 14,
     "metadata": {},
     "output_type": "execute_result"
    }
   ],
   "source": [
    "# Using the function palindromes_strings\n",
    "palindrome_strings(['hi', 'hello', 'level', 'radar'])"
   ]
  },
  {
   "cell_type": "markdown",
   "id": "1401c5b9",
   "metadata": {},
   "source": [
    "### 2. Write a function that takes a string as input and returns a list of all possible substrings of the string."
   ]
  },
  {
   "cell_type": "code",
   "execution_count": 15,
   "id": "c2ada9b2",
   "metadata": {},
   "outputs": [],
   "source": [
    "# defining a function named all_substrings\n",
    "def all_substrings(str1):\n",
    "    substrings = []\n",
    "    length = len(str1)\n",
    "\n",
    "    for start in range(length):\n",
    "        for end in range(start + 1, length + 1):\n",
    "            substring = str1[start:end]\n",
    "            substrings.append(substring)\n",
    "\n",
    "    return substrings"
   ]
  },
  {
   "cell_type": "code",
   "execution_count": 16,
   "id": "24b03ca5",
   "metadata": {},
   "outputs": [
    {
     "data": {
      "text/plain": [
       "['h',\n",
       " 'he',\n",
       " 'hel',\n",
       " 'hell',\n",
       " 'hello',\n",
       " 'e',\n",
       " 'el',\n",
       " 'ell',\n",
       " 'ello',\n",
       " 'l',\n",
       " 'll',\n",
       " 'llo',\n",
       " 'l',\n",
       " 'lo',\n",
       " 'o']"
      ]
     },
     "execution_count": 16,
     "metadata": {},
     "output_type": "execute_result"
    }
   ],
   "source": [
    "# using the function all_substrings\n",
    "all_substrings('hello')"
   ]
  },
  {
   "cell_type": "markdown",
   "id": "be13418a",
   "metadata": {},
   "source": [
    "### 3. Write a function that takes two matrices (lists of lists) as input and returns the product of the matrices (if possible)."
   ]
  },
  {
   "cell_type": "code",
   "execution_count": 17,
   "id": "3f7fe97a",
   "metadata": {},
   "outputs": [],
   "source": [
    "# importing numpy library\n",
    "import numpy as np\n",
    "\n",
    "# defining a function named matrices_product\n",
    "def matrices_product(mtr1, mtr2):\n",
    "    mtr1 = np.array(mtr1)\n",
    "    mtr2 = np.array(mtr2)\n",
    "    shape_mtr1 = np.shape(mtr1)\n",
    "    shape_mtr2 = np.shape(mtr2)\n",
    "    \n",
    "    if shape_mtr1[1] != shape_mtr2[0]:\n",
    "        return \"Number of columns in the first matrix (mtr1) doesn't match the number of rows in the second matrix (mtr2).\"\n",
    "    \n",
    "    return np.dot(mtr1, mtr2)"
   ]
  },
  {
   "cell_type": "code",
   "execution_count": 18,
   "id": "81f1e426",
   "metadata": {},
   "outputs": [
    {
     "data": {
      "text/plain": [
       "array([[17, 25, 19],\n",
       "       [15, 21, 14]])"
      ]
     },
     "execution_count": 18,
     "metadata": {},
     "output_type": "execute_result"
    }
   ],
   "source": [
    "# using the function matrices_product\n",
    "matrices_product([[1,2,4,1], [2,1,1,2]], [[3,4,1], [4,5,1], [1,2,3], [2,3,4]])"
   ]
  }
 ],
 "metadata": {
  "kernelspec": {
   "display_name": "Python 3 (ipykernel)",
   "language": "python",
   "name": "python3"
  },
  "language_info": {
   "codemirror_mode": {
    "name": "ipython",
    "version": 3
   },
   "file_extension": ".py",
   "mimetype": "text/x-python",
   "name": "python",
   "nbconvert_exporter": "python",
   "pygments_lexer": "ipython3",
   "version": "3.9.13"
  }
 },
 "nbformat": 4,
 "nbformat_minor": 5
}
