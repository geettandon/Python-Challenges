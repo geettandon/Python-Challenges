{
 "cells": [
  {
   "cell_type": "markdown",
   "id": "fc34f7cb",
   "metadata": {},
   "source": [
    "# Python Challenge 3\n",
    "\n",
    "This is the Python Coding challenge 3. This challenge can be found here. [link](https://www.steeldata.org.uk/python3.html)"
   ]
  },
  {
   "cell_type": "markdown",
   "id": "1f6415f7",
   "metadata": {},
   "source": [
    "## Beginner\n",
    "\n",
    "### 1. Write a function that takes a string as input and returns the number of words in the string."
   ]
  },
  {
   "cell_type": "code",
   "execution_count": 1,
   "id": "e0d55431",
   "metadata": {},
   "outputs": [],
   "source": [
    "# defining a function named words_in_string\n",
    "def words_in_string(input_string):\n",
    "    # Check for a valid input\n",
    "    if not isinstance(input_string, str):\n",
    "        raise ValueError(\"Input is not a string.\")\n",
    "    \n",
    "    split_string = input_string.split(' ')\n",
    "    return len(split_string)"
   ]
  },
  {
   "cell_type": "code",
   "execution_count": 2,
   "id": "4a6a1e2d",
   "metadata": {},
   "outputs": [
    {
     "data": {
      "text/plain": [
       "4"
      ]
     },
     "execution_count": 2,
     "metadata": {},
     "output_type": "execute_result"
    }
   ],
   "source": [
    "# using the words_in_string function\n",
    "words_in_string('How are you doing?')"
   ]
  },
  {
   "cell_type": "markdown",
   "id": "2062a03f",
   "metadata": {},
   "source": [
    "### 2. Write a function that takes a list of integers as input and returns the sum of the even numbers in the list."
   ]
  },
  {
   "cell_type": "code",
   "execution_count": 3,
   "id": "e6ae6c48",
   "metadata": {},
   "outputs": [],
   "source": [
    "# defining a function named even_numbers_sum\n",
    "def even_numbers_sum(input_list):\n",
    "    # Check for a valid input\n",
    "    if not isinstance(input_list, list):\n",
    "        raise ValueError(\"Input is not a list.\")\n",
    "    \n",
    "    # Check if the list is empty\n",
    "    if not input_list:\n",
    "        return 0\n",
    "    \n",
    "    # Check if all the elements are integers\n",
    "    if not all(isinstance(x, int) for x in input_list):\n",
    "        raise ValueError(\"Input contains non-integer elements.\")\n",
    "    \n",
    "    even_sum = 0\n",
    "    for x in input_list:\n",
    "        if x % 2 == 0:\n",
    "            even_sum += x\n",
    "            \n",
    "    return even_sum"
   ]
  },
  {
   "cell_type": "code",
   "execution_count": 4,
   "id": "4c350e51",
   "metadata": {},
   "outputs": [
    {
     "data": {
      "text/plain": [
       "12"
      ]
     },
     "execution_count": 4,
     "metadata": {},
     "output_type": "execute_result"
    }
   ],
   "source": [
    "# using the function even_numbers_sum\n",
    "even_numbers_sum([1,3,5,6,2,4])"
   ]
  },
  {
   "cell_type": "markdown",
   "id": "e77800d8",
   "metadata": {},
   "source": [
    "### 3. Write a function that takes two strings as input and returns True if they are anagrams (i.e. they contain the same letters in a different order), False otherwise."
   ]
  },
  {
   "cell_type": "code",
   "execution_count": 5,
   "id": "190b0e0a",
   "metadata": {},
   "outputs": [],
   "source": [
    "# defining a function named anagram_strings\n",
    "def anagram_strings(input_string1, input_string2):\n",
    "    # Check for valid inputs\n",
    "    if not isinstance(input_string1, str) or not isinstance(input_string2, str):\n",
    "        raise ValueError(\"Both inputs should be strings.\")\n",
    "    \n",
    "    letter_string1 = [x.lower() for x in input_string1]\n",
    "    letter_string2 = [y.lower() for y in input_string2]\n",
    "    \n",
    "    return sorted(letter_string1) == sorted(letter_string2)"
   ]
  },
  {
   "cell_type": "code",
   "execution_count": 6,
   "id": "2f1f9128",
   "metadata": {},
   "outputs": [
    {
     "data": {
      "text/plain": [
       "True"
      ]
     },
     "execution_count": 6,
     "metadata": {},
     "output_type": "execute_result"
    }
   ],
   "source": [
    "# using the function anagram_strings\n",
    "anagram_strings('listEn', 'siLent')"
   ]
  },
  {
   "cell_type": "markdown",
   "id": "4fbe013c",
   "metadata": {},
   "source": [
    "## Intermediate\n",
    "\n",
    "### 1. Write a function that takes a list of strings as input and returns a new list with only the strings that start with a vowel."
   ]
  },
  {
   "cell_type": "code",
   "execution_count": 7,
   "id": "b9fa03e2",
   "metadata": {},
   "outputs": [],
   "source": [
    "# defining a function named vowel_strings\n",
    "def vowel_strings(input_list):\n",
    "    # Check for a valid input\n",
    "    if not isinstance(input_list, list):\n",
    "        raise ValueError(\"Input is not a list.\")\n",
    "        \n",
    "    # Check if all the elements are strings\n",
    "    if not all(isinstance(x, str) for x in input_list):\n",
    "        raise ValueError(\"Input contains non-string elements\")\n",
    "    \n",
    "    vowel_string_list = []\n",
    "    for x in input_list:\n",
    "        if x[0] in ['a', 'e', 'i', 'o', 'u']:\n",
    "            vowel_string_list.append(x)\n",
    "    \n",
    "    return vowel_string_list"
   ]
  },
  {
   "cell_type": "code",
   "execution_count": 8,
   "id": "dadd4a54",
   "metadata": {},
   "outputs": [
    {
     "data": {
      "text/plain": [
       "['are', 'is']"
      ]
     },
     "execution_count": 8,
     "metadata": {},
     "output_type": "execute_result"
    }
   ],
   "source": [
    "# using the function vowel_strings\n",
    "vowel_strings(['where', 'are', 'you', 'now', 'is'])"
   ]
  },
  {
   "cell_type": "markdown",
   "id": "8ff169df",
   "metadata": {},
   "source": [
    "### 2. Write a function that takes a list of integers as input and returns a new list with the elements sorted in descending order."
   ]
  },
  {
   "cell_type": "code",
   "execution_count": 9,
   "id": "3b62d22c",
   "metadata": {},
   "outputs": [],
   "source": [
    "# defining a function named sorted_list\n",
    "def sorted_list(input_list):\n",
    "    # Check for a valid input\n",
    "    if not isinstance(input_list, list):\n",
    "        raise ValueError(\"Input is not a list.\")\n",
    "        \n",
    "    # Check if all the elements are integers\n",
    "    if not all(isinstance(x, int) for x in input_list):\n",
    "        raise ValueError(\"Input contains non-integer elements.\")\n",
    "        \n",
    "    return sorted(input_list, reverse=True)"
   ]
  },
  {
   "cell_type": "code",
   "execution_count": 10,
   "id": "40e76910",
   "metadata": {},
   "outputs": [
    {
     "data": {
      "text/plain": [
       "[3, 2, 1]"
      ]
     },
     "execution_count": 10,
     "metadata": {},
     "output_type": "execute_result"
    }
   ],
   "source": [
    "# using the function sorted_list\n",
    "sorted_list([1,2,3])"
   ]
  },
  {
   "cell_type": "markdown",
   "id": "ec730f2f",
   "metadata": {},
   "source": [
    "### 3. Write a function that takes a string as input and returns True if it is a palindrome, False otherwise."
   ]
  },
  {
   "cell_type": "code",
   "execution_count": 11,
   "id": "d55f88c1",
   "metadata": {},
   "outputs": [],
   "source": [
    "# defining a function named is_palindrome\n",
    "def is_palindrome(input_string):\n",
    "    # Check for a valid input\n",
    "    if not isinstance(input_string, str):\n",
    "        raise ValueError(\"Input is not a string.\")\n",
    "        \n",
    "    return input_string == input_string[::-1]"
   ]
  },
  {
   "cell_type": "code",
   "execution_count": 12,
   "id": "2123f377",
   "metadata": {},
   "outputs": [
    {
     "data": {
      "text/plain": [
       "True"
      ]
     },
     "execution_count": 12,
     "metadata": {},
     "output_type": "execute_result"
    }
   ],
   "source": [
    "# using the function is_palindrome\n",
    "is_palindrome('level')"
   ]
  },
  {
   "cell_type": "markdown",
   "id": "1336dcdd",
   "metadata": {},
   "source": [
    "## Advanced\n",
    "\n",
    "### 1. Write a function that takes a list of strings as input and returns a new list with only the strings that are anagrams of at least one other string in the list."
   ]
  },
  {
   "cell_type": "code",
   "execution_count": 13,
   "id": "3d297c44",
   "metadata": {},
   "outputs": [],
   "source": [
    "# defining a function named anagrams_list\n",
    "def anagram_list(input_list):\n",
    "    # Check for a valid input\n",
    "    if not isinstance(input_list, list):\n",
    "        raise ValueError(\"Input is not a list.\")\n",
    "        \n",
    "    # Check if all the elements are strings\n",
    "    if not all(isinstance(x, str) for x in input_list):\n",
    "        raise ValueError(\"Input contains non-string elements\")\n",
    "\n",
    "    anagram_list = []\n",
    "    for x in input_list:\n",
    "        for i in input_list:\n",
    "            if x == i or x in anagram_list:\n",
    "                continue\n",
    "            elif sorted(x) == sorted(i):\n",
    "                anagram_list.append(x)\n",
    "                break  # Break out of the inner loop once an anagram is found\n",
    "    \n",
    "    return set(anagram_list)"
   ]
  },
  {
   "cell_type": "code",
   "execution_count": 14,
   "id": "b2724559",
   "metadata": {},
   "outputs": [
    {
     "data": {
      "text/plain": [
       "{'care', 'earth', 'heart', 'listen', 'race', 'silent', 'tired', 'tried'}"
      ]
     },
     "execution_count": 14,
     "metadata": {},
     "output_type": "execute_result"
    }
   ],
   "source": [
    "# using function anagram_list\n",
    "anagram_list([\"listen\", \"silent\", \"heart\", \"earth\", \"post\", \"race\", \"care\", \"tired\", \"tried\",'listen'])"
   ]
  },
  {
   "cell_type": "markdown",
   "id": "831f3693",
   "metadata": {},
   "source": [
    "### 2. Write a function that takes a list of dictionaries as input and returns a new list with only the dictionaries that contain a certain key-value pair."
   ]
  },
  {
   "cell_type": "code",
   "execution_count": 15,
   "id": "2a585ac0",
   "metadata": {},
   "outputs": [],
   "source": [
    "# defining a function named find_dictionaries\n",
    "def find_dictionaries(input_list, key, value):\n",
    "    # Check for a valid input\n",
    "    if not isinstance(input_list, list):\n",
    "        raise ValueError(\"Input is not a list.\")\n",
    "        \n",
    "    # Check if all the elements are dictionaries\n",
    "    if not all(isinstance(x, dict) for x in input_list):\n",
    "        raise ValueError(\"Input contains non-dictionary elements\")\n",
    "        \n",
    "    dict_with_key_value = []\n",
    "    for i in input_list:\n",
    "        # Check if the key is present and has the specified value\n",
    "        if key in i and i[key] == value:\n",
    "            dict_with_key_value.append(i)\n",
    "    \n",
    "    return dict_with_key_value"
   ]
  },
  {
   "cell_type": "code",
   "execution_count": 16,
   "id": "8a103430",
   "metadata": {},
   "outputs": [
    {
     "data": {
      "text/plain": [
       "[{'city': 'Mumbai', 'capital': 'No'}]"
      ]
     },
     "execution_count": 16,
     "metadata": {},
     "output_type": "execute_result"
    }
   ],
   "source": [
    "# using the function find_dictionaries\n",
    "find_dictionaries([{'city': 'Delhi', 'capital': 'Yes'}, {}, {'city': 'Mumbai', 'capital': 'No'}], 'city', 'Mumbai')"
   ]
  },
  {
   "cell_type": "markdown",
   "id": "7abae7f4",
   "metadata": {},
   "source": [
    "### 3. Write a function that takes a list of integers as input and returns a new list with only the numbers that can be expressed as the product of two distinct prime numbers."
   ]
  },
  {
   "cell_type": "code",
   "execution_count": 45,
   "id": "365a2068",
   "metadata": {},
   "outputs": [],
   "source": [
    "# defining a function named is_prime\n",
    "def is_prime(n):\n",
    "    \"\"\"Check if a number is prime.\"\"\"\n",
    "    if n < 2:\n",
    "        return False\n",
    "    for i in range(2, int(n**0.5) + 1):\n",
    "        if n % i == 0:\n",
    "            return False\n",
    "    return True\n",
    "\n",
    "# defining a function named product_of_prime_numbers\n",
    "def product_of_prime_numbers(input_list):\n",
    "    # Check for a valid input\n",
    "    if not isinstance(input_list, list):\n",
    "        raise ValueError(\"Input is not a list.\")\n",
    "        \n",
    "    # Check if all the elements are integers\n",
    "    if not all(isinstance(x, int) for x in input_list):\n",
    "        raise ValueError(\"Input contains non-integer elements.\")\n",
    "        \n",
    "    product_of_prime = []\n",
    "    for i in input_list:\n",
    "        if i in product_of_prime:\n",
    "            continue\n",
    "        \n",
    "        else:\n",
    "            prime_num = []\n",
    "            for j in range(2, i):\n",
    "                if is_prime(j):\n",
    "                    prime_num.append(j)\n",
    "\n",
    "            for x in range(len(prime_num)):\n",
    "                for y in range(x + 1, len(prime_num)):\n",
    "                    if prime_num[x] == prime_num[y]:\n",
    "                        continue\n",
    "                    elif prime_num[x] * prime_num[y] == i:\n",
    "                        product_of_prime.append(i)\n",
    "                        break\n",
    "\n",
    "    return product_of_prime"
   ]
  },
  {
   "cell_type": "code",
   "execution_count": 46,
   "id": "5741d52c",
   "metadata": {},
   "outputs": [
    {
     "data": {
      "text/plain": [
       "[6, 15]"
      ]
     },
     "execution_count": 46,
     "metadata": {},
     "output_type": "execute_result"
    }
   ],
   "source": [
    "# using the function product_of_prime_numbers\n",
    "product_of_prime_numbers([6, 7, 8, 9, 12, 15])"
   ]
  }
 ],
 "metadata": {
  "kernelspec": {
   "display_name": "Python 3 (ipykernel)",
   "language": "python",
   "name": "python3"
  },
  "language_info": {
   "codemirror_mode": {
    "name": "ipython",
    "version": 3
   },
   "file_extension": ".py",
   "mimetype": "text/x-python",
   "name": "python",
   "nbconvert_exporter": "python",
   "pygments_lexer": "ipython3",
   "version": "3.9.13"
  }
 },
 "nbformat": 4,
 "nbformat_minor": 5
}
