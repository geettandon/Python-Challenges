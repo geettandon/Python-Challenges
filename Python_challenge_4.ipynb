{
 "cells": [
  {
   "cell_type": "markdown",
   "id": "fc34f7cb",
   "metadata": {},
   "source": [
    "# Python Challenge 4\n",
    "\n",
    "This is the Python Coding challenge 4. This challenge can be found here. [link](https://www.steeldata.org.uk/python4.html)"
   ]
  },
  {
   "cell_type": "markdown",
   "id": "1f6415f7",
   "metadata": {},
   "source": [
    "## Beginner\n",
    "\n",
    "### 1. Write a function that takes a list of integers as input and returns the average of the numbers in the list."
   ]
  },
  {
   "cell_type": "code",
   "execution_count": 9,
   "id": "8f202e62",
   "metadata": {},
   "outputs": [],
   "source": [
    "# defining a function named list_avg\n",
    "def list_avg(input_list):\n",
    "    # Check for a valid input\n",
    "    if not isinstance(input_list, list):\n",
    "        raise ValueError(\"Input is not a list.\")\n",
    "    \n",
    "    # Check if all the elements are integers\n",
    "    if not all(isinstance(x, int) for x in input_list):\n",
    "        raise ValueError(\"Input contains non-integer elements.\")\n",
    "        \n",
    "    return round(sum(input_list) / len(input_list), 2)"
   ]
  },
  {
   "cell_type": "code",
   "execution_count": 10,
   "id": "7cb079ac",
   "metadata": {},
   "outputs": [
    {
     "data": {
      "text/plain": [
       "8.4"
      ]
     },
     "execution_count": 10,
     "metadata": {},
     "output_type": "execute_result"
    }
   ],
   "source": [
    "# using the function list_avg\n",
    "list_avg([1, 4, 7, 10, 20])"
   ]
  },
  {
   "cell_type": "markdown",
   "id": "e9b86ffa",
   "metadata": {},
   "source": [
    "### 2. Write a function that takes a string as input and returns the string with all vowels removed."
   ]
  },
  {
   "cell_type": "code",
   "execution_count": 28,
   "id": "a8a3396f",
   "metadata": {},
   "outputs": [],
   "source": [
    "# defining a function named remove_vowels\n",
    "def remove_vowels(input_string):\n",
    "    # Check for a valid input\n",
    "    if not isinstance(input_string, str):\n",
    "        raise ValueError(\"Input is not a string.\")\n",
    "    \n",
    "    without_vowels = ''\n",
    "    for x in input_string:\n",
    "        if x.lower() not in 'aeiou':\n",
    "            without_vowels += x\n",
    "            \n",
    "    return without_vowels"
   ]
  },
  {
   "cell_type": "code",
   "execution_count": 29,
   "id": "5f40a09e",
   "metadata": {},
   "outputs": [
    {
     "data": {
      "text/plain": [
       "'hll'"
      ]
     },
     "execution_count": 29,
     "metadata": {},
     "output_type": "execute_result"
    }
   ],
   "source": [
    "# using the function named remove_vowels\n",
    "remove_vowels('hello')"
   ]
  },
  {
   "cell_type": "markdown",
   "id": "92a015da",
   "metadata": {},
   "source": [
    "### 3. Write a function that takes a list of strings as input and returns a new list with the strings sorted alphabetically."
   ]
  },
  {
   "cell_type": "code",
   "execution_count": 42,
   "id": "8101bede",
   "metadata": {},
   "outputs": [],
   "source": [
    "# defining a function named sort_strings\n",
    "def sort_strings(input_list):\n",
    "    # Check for a valid input\n",
    "    if not isinstance(input_list, list):\n",
    "        raise ValueError(\"Input is not a list.\")\n",
    "        \n",
    "    # Check if all the elements are strings\n",
    "    if not all(isinstance(x, str) for x in input_list):\n",
    "        raise ValueError(\"Input contains non-string elements.\")\n",
    "        \n",
    "    return sorted(input_list)"
   ]
  },
  {
   "cell_type": "code",
   "execution_count": 45,
   "id": "df0842bf",
   "metadata": {},
   "outputs": [
    {
     "data": {
      "text/plain": [
       "['hello', 'python', 'world']"
      ]
     },
     "execution_count": 45,
     "metadata": {},
     "output_type": "execute_result"
    }
   ],
   "source": [
    "# using the function sort_strings\n",
    "sort_strings(['hello', 'world', 'python'])"
   ]
  },
  {
   "cell_type": "markdown",
   "id": "b886eda9",
   "metadata": {},
   "source": [
    "## Intermediate\n",
    "\n",
    "### 1. Write a function that takes a list of tuples as input, where each tuple contains a string and an integer, and returns a new list of tuples sorted by the integer values."
   ]
  },
  {
   "cell_type": "code",
   "execution_count": 15,
   "id": "94bd8555",
   "metadata": {},
   "outputs": [],
   "source": [
    "# defining a function named sort_tuples_list\n",
    "def sort_tuples_list(input_list):\n",
    "    # Check for a valid input\n",
    "    if not isinstance(input_list, list):\n",
    "        raise ValueError(\"Input is not a list.\")\n",
    "        \n",
    "    # Check if all the elements are tuples\n",
    "    if not all(isinstance(x, tuple) for x in input_list):\n",
    "        raise ValueError(\"Input contains non-tuple elements.\")\n",
    "        \n",
    "    # Check if all the tuples contains a string and an integer\n",
    "    if not all(isinstance(x[0], str) and isinstance(x[1], int) for x in input_list):\n",
    "        raise ValueError(\"Input contains non-string or non-integer elements. Example input: ('string', 1) \")\n",
    "        \n",
    "    sorted_tuples_list = sorted(input_list, key=lambda x: x[1])\n",
    "        \n",
    "    return sorted_tuples_list"
   ]
  },
  {
   "cell_type": "code",
   "execution_count": 16,
   "id": "3907c29b",
   "metadata": {},
   "outputs": [
    {
     "data": {
      "text/plain": [
       "[('my', 1), ('hello', 2), ('friend', 4)]"
      ]
     },
     "execution_count": 16,
     "metadata": {},
     "output_type": "execute_result"
    }
   ],
   "source": [
    "# using the function sort_tuples\n",
    "sort_tuples_list([('hello', 2), ('my', 1), ('friend', 4)])"
   ]
  },
  {
   "cell_type": "markdown",
   "id": "53941c3a",
   "metadata": {},
   "source": [
    "### 2.  Write a function that takes a list of strings as input and returns a new list with only the strings that contain at least one uppercase letter."
   ]
  },
  {
   "cell_type": "code",
   "execution_count": 30,
   "id": "3dd631cf",
   "metadata": {},
   "outputs": [],
   "source": [
    "# defining a function named uppercase_strings\n",
    "def uppercase_strings(input_list):\n",
    "    # Check for a valid input\n",
    "    if not isinstance(input_list, list):\n",
    "        raise ValueError(\"Input is not a list.\")\n",
    "        \n",
    "    # Check if all the elements are strings\n",
    "    if not all(isinstance(x, str) for x in input_list):\n",
    "        raise ValueError(\"Input contains non-string elements.\")\n",
    "    \n",
    "    strings_uppercase = []\n",
    "    \n",
    "    for x in input_list:\n",
    "        if any(char.isupper() for char in x):\n",
    "            strings_uppercase.append(x)\n",
    "        \n",
    "    return strings_uppercase"
   ]
  },
  {
   "cell_type": "code",
   "execution_count": 31,
   "id": "33adeb41",
   "metadata": {},
   "outputs": [
    {
     "data": {
      "text/plain": [
       "['WorLd', 'iN', 'PYTHON']"
      ]
     },
     "execution_count": 31,
     "metadata": {},
     "output_type": "execute_result"
    }
   ],
   "source": [
    "# using the function uppercase_strings\n",
    "uppercase_strings(['hello', 'WorLd', 'iN', 'PYTHON'])"
   ]
  },
  {
   "cell_type": "markdown",
   "id": "4bc872ff",
   "metadata": {},
   "source": [
    "### 3. Write a function that takes a list of integers as input and returns the sum of the digits of all the numbers in the list."
   ]
  },
  {
   "cell_type": "code",
   "execution_count": 69,
   "id": "25274fc8",
   "metadata": {},
   "outputs": [],
   "source": [
    "# defining a function named sum_of_digits\n",
    "def sum_of_digits(input_list):\n",
    "    # Check for a valid input\n",
    "    if not isinstance(input_list, list):\n",
    "        raise ValueError(\"Input is not a list.\")\n",
    "        \n",
    "    # Check if all the elements are integers\n",
    "    if not all(isinstance(x, int) for x in input_list):\n",
    "        raise ValueError(\"Input contains non-integer elements.\")\n",
    "        \n",
    "    list_digits_sum = 0\n",
    "    for x in input_list:\n",
    "        for i in str(abs(x)):\n",
    "            list_digits_sum += int(i)\n",
    "        \n",
    "    return list_digits_sum"
   ]
  },
  {
   "cell_type": "code",
   "execution_count": 71,
   "id": "6dbf1a15",
   "metadata": {},
   "outputs": [
    {
     "data": {
      "text/plain": [
       "25"
      ]
     },
     "execution_count": 71,
     "metadata": {},
     "output_type": "execute_result"
    }
   ],
   "source": [
    "# using the function sum_of_digits\n",
    "sum_of_digits([14, 4, -7, 12, 15])"
   ]
  },
  {
   "cell_type": "markdown",
   "id": "2d2e3dc7",
   "metadata": {},
   "source": [
    "## Advanced\n",
    "\n",
    "### 1. Write a function that takes a list of dictionaries as input, where each dictionary represents a person with keys for name, age, and address, and returns a new list of dictionaries sorted by age."
   ]
  },
  {
   "cell_type": "code",
   "execution_count": 105,
   "id": "393fe116",
   "metadata": {},
   "outputs": [],
   "source": [
    "# defining a function named age_sorted_dicts\n",
    "def age_sorted_dicts(input_list):\n",
    "    # Check for a valid input\n",
    "    if not isinstance(input_list, list):\n",
    "        raise ValueError(\"Input is not a list.\")\n",
    "        \n",
    "    # Check if all the elements are dictionaries\n",
    "    if not all(isinstance(x, dict) for x in input_list):\n",
    "        raise ValueError(\"Input contains non-dictionary elements.\")\n",
    "    \n",
    "    # Check if all dictionaries have 'age' key\n",
    "    if not all('age' in x for x in input_list):\n",
    "        raise ValueError(\"Dictionaries in input are missing the 'age' key.\")\n",
    "        \n",
    "    sorted_list_by_dict = sorted(input_list, key=lambda x: x.get('age', 0))\n",
    "    \n",
    "    return sorted_list_by_dict"
   ]
  },
  {
   "cell_type": "code",
   "execution_count": 103,
   "id": "340ec633",
   "metadata": {},
   "outputs": [
    {
     "data": {
      "text/plain": [
       "[{'name': 'Kevin', 'age': 21, 'address': 'Mumbai'},\n",
       " {'name': 'Harry', 'age': 23, 'address': 'Delhi'}]"
      ]
     },
     "execution_count": 103,
     "metadata": {},
     "output_type": "execute_result"
    }
   ],
   "source": [
    "# using the function age_sorted_dicts\n",
    "age_sorted_dicts([{'name': 'Harry', 'age': 23, 'address': 'Delhi'}, {'name': 'Kevin', 'age': 21, 'address': 'Mumbai'}])"
   ]
  },
  {
   "cell_type": "markdown",
   "id": "1667274e",
   "metadata": {},
   "source": [
    "### 2. Write a program that takes a list of strings as input and performs the following steps:\n",
    "- Remove any strings that contain non-alphabetic characters.\n",
    "- Convert all remaining strings to lowercase.\n",
    "- Sort the strings alphabetically.\n",
    "- Return the sorted list of strings."
   ]
  },
  {
   "cell_type": "code",
   "execution_count": 31,
   "id": "565ecfec",
   "metadata": {},
   "outputs": [],
   "source": [
    "# importing the regex module\n",
    "import re\n",
    "\n",
    "# defining a function named string_correction\n",
    "def string_correction(input_list):\n",
    "    # Check for a valid input\n",
    "    if not isinstance(input_list, list):\n",
    "        raise ValueError(\"Input is not a list.\")\n",
    "        \n",
    "    # Check if all the elements are strings\n",
    "    if not all(isinstance(x, str) for x in input_list):\n",
    "        raise ValueError(\"Input contains non-string elements.\")\n",
    "    \n",
    "    alphabetic_lower_str = []\n",
    "    for x in input_list:\n",
    "        if re.search(\"[^a-zA-Z]\", x):\n",
    "            continue\n",
    "        else:\n",
    "            alphabetic_lower_str.append(x.lower())\n",
    "            \n",
    "    return sorted(alphabetic_lower_str)"
   ]
  },
  {
   "cell_type": "code",
   "execution_count": 34,
   "id": "c1b562a5",
   "metadata": {},
   "outputs": [
    {
     "data": {
      "text/plain": [
       "['alpha', 'beta', 'gamma', 'lambda']"
      ]
     },
     "execution_count": 34,
     "metadata": {},
     "output_type": "execute_result"
    }
   ],
   "source": [
    "# using the function string_correction\n",
    "string_correction(['alpha', 'beta', 'gamma', 'pi7', 'lam6da', '2d', '3d', 'lambda'])"
   ]
  },
  {
   "cell_type": "markdown",
   "id": "ac286096",
   "metadata": {},
   "source": [
    "### 3. Write a program that takes a list of integers as input and performs the following steps:\n",
    "- Remove any integers that are not prime numbers.\n",
    "- Sort the remaining prime numbers in ascending order.\n",
    "- For each prime number, calculate the sum of the digits in the number.\n",
    "- Return a list of tuples, where each tuple contains the prime number and its corresponding sum of digits."
   ]
  },
  {
   "cell_type": "code",
   "execution_count": 54,
   "id": "14dd17c0",
   "metadata": {},
   "outputs": [],
   "source": [
    "# defining a function named is_prime\n",
    "def is_prime(n):\n",
    "    \"\"\"Check if a number is prime.\"\"\"\n",
    "    if n < 2:\n",
    "        return False\n",
    "    for i in range(2, int(n**0.5) + 1):\n",
    "        if n % i == 0:\n",
    "            return False\n",
    "    return True\n",
    "\n",
    "\n",
    "# defining a function named integers_correction\n",
    "def integers_correction(input_list):\n",
    "    # Check for a valid input\n",
    "    if not isinstance(input_list, list):\n",
    "        raise ValueError(\"Input is not a list.\")\n",
    "        \n",
    "    # Check if all the elements are integers\n",
    "    if not all(isinstance(x, int) for x in input_list):\n",
    "        raise ValueError(\"Input contains non-integers elements.\")\n",
    "        \n",
    "    prime_int = sorted([x for x in input_list if is_prime(x)])\n",
    "    prime_tuple = []\n",
    "    for x in prime_int:\n",
    "        prime_tuple.append((x, sum([int(i) for i in str(x)])))\n",
    "        \n",
    "    return prime_tuple"
   ]
  },
  {
   "cell_type": "code",
   "execution_count": 58,
   "id": "c6aaa096",
   "metadata": {},
   "outputs": [
    {
     "data": {
      "text/plain": [
       "[(11, 2), (23, 5), (127, 10)]"
      ]
     },
     "execution_count": 58,
     "metadata": {},
     "output_type": "execute_result"
    }
   ],
   "source": [
    "# using the function integers_correction\n",
    "integers_correction([23, 456, 11, 127])"
   ]
  },
  {
   "cell_type": "code",
   "execution_count": null,
   "id": "2cd8ba88",
   "metadata": {},
   "outputs": [],
   "source": []
  }
 ],
 "metadata": {
  "kernelspec": {
   "display_name": "Python 3 (ipykernel)",
   "language": "python",
   "name": "python3"
  },
  "language_info": {
   "codemirror_mode": {
    "name": "ipython",
    "version": 3
   },
   "file_extension": ".py",
   "mimetype": "text/x-python",
   "name": "python",
   "nbconvert_exporter": "python",
   "pygments_lexer": "ipython3",
   "version": "3.9.13"
  }
 },
 "nbformat": 4,
 "nbformat_minor": 5
}
